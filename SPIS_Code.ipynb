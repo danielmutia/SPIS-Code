{
 "cells": [
  {
   "cell_type": "markdown",
   "id": "aee72c31",
   "metadata": {},
   "source": [
    "Importing relevant libraries"
   ]
  },
  {
   "cell_type": "code",
   "execution_count": 1,
   "id": "978dc5cf",
   "metadata": {},
   "outputs": [],
   "source": [
    "import pandas as pd\n",
    "from datetime import datetime\n",
    "import pyeto\n",
    "import numpy as np\n",
    "import ast       \n",
    "import math\n",
    "import xlrd\n",
    "from ast import literal_eval  \n",
    "from pandas import DataFrame\n",
    "from scipy.interpolate import interp1d\n",
    "import dateutil     #dateutil module provides powerful extensions to the standard datetime module\n",
    "from dateutil import parser  #This module offers reads the given date in string and convert it to date format or timestamps,it represent a date and/or time from most known formats \n",
    "import os\n",
    "from tkinter import filedialog, messagebox\n",
    "import matplotlib.pyplot as plt\n",
    "import folium\n",
    "import branca.colormap as cm\n",
    "import json\n",
    "from IPython.display import display, Markdown, HTML\n",
    "\n",
    "# note that pyeto is available here https://github.com/woodcrafty/PyETo.git\n",
    "from pyeto import fao\n",
    "\n",
    "%matplotlib inline\n",
    "\n",
    "math.exp = np.exp\n",
    "math.pow = np.power\n",
    "math.sqrt = np.sqrt"
   ]
  },
  {
   "cell_type": "markdown",
   "id": "5c7d81fa",
   "metadata": {},
   "source": [
    "# Choosing the scenario to be analysed"
   ]
  },
  {
   "cell_type": "markdown",
   "id": "659c5aae",
   "metadata": {},
   "source": [
    "Two scenarios have been used for the analysis:\n",
    "\n",
    "- Average-case scenario wwhich uses the average monthly precipitation and temperature data for the last 10 years\n",
    "\n",
    "- Worst-case scenario which picks the months with the lowest rainfall and highest temperatures for the last 10 years\n",
    "\n",
    "The input files for the average scenario and worst-case (drought) scenario are provided\n",
    "\n",
    "A future scenario input file can be generated accordingly by using projections for precipitation and temperature"
   ]
  },
  {
   "cell_type": "markdown",
   "id": "bfaf6249",
   "metadata": {},
   "source": [
    "Select the scenario to be analysed below as follows:\n",
    "- 0 for average scenario\n",
    "- 1 for worse-case scenario\n",
    "- 2 for future-case scenario"
   ]
  },
  {
   "cell_type": "code",
   "execution_count": 2,
   "id": "f73c9f15",
   "metadata": {},
   "outputs": [],
   "source": [
    "#select scenario for analysis\n",
    "#0 for average scenario\n",
    "#1 for worst case scenario\n",
    "s = 1"
   ]
  },
  {
   "cell_type": "markdown",
   "id": "7094ff67",
   "metadata": {},
   "source": [
    "Reading in the input files"
   ]
  },
  {
   "cell_type": "code",
   "execution_count": 3,
   "id": "eb3aae15",
   "metadata": {},
   "outputs": [],
   "source": [
    "if s == 1:\n",
    "    df = pd.read_csv('worst_case_input.csv')\n",
    "elif s == 2:\n",
    "    df = pd.read_csv('future_case_input.csv')\n",
    "else:\n",
    "    df = pd.read_csv('average_case_input.csv')\n",
    "\n",
    "df.head(5)"
   ]
  },
  {
   "cell_type": "markdown",
   "id": "cc3b7dd5",
   "metadata": {},
   "source": [
    "# Determining the reference evapotranspiration (ETo)"
   ]
  },
  {
   "cell_type": "markdown",
   "id": "320c92a4",
   "metadata": {},
   "source": [
    "The function for estimating the parameters for calculating reference evapotranspiration requires the following inputs:\n",
    "- Latitude\n",
    "- Longitude\n",
    "- Elevation\n",
    "- Monthly Wind speed at 2m\n",
    "- Monthly Solar irradiation\n",
    "- Monthly minimum temperature\n",
    "- Monthly maximum temperature\n",
    "- Maximum monthly temperature\n",
    "\n",
    "These inputs are used for estimating the parameters for the Penman-Monteith equation for evapotranspiration which are:\n",
    "- Net radiation at the crop surface\n",
    "- Air temperature at 2m\n",
    "- Wind speed at 2m\n",
    "- Saturation vapour pressure\n",
    "- Actual vapour pressure\n",
    "- Saturation vapour pressure deficit\n",
    "- Slope vapour pressure curve\n",
    "- Psychrometric constant"
   ]
  },
  {
   "cell_type": "code",
   "execution_count": 4,
   "id": "75ab0b74",
   "metadata": {},
   "outputs": [],
   "source": [
    "#Defining function for estimating parameters required to calculate monthly reference evapotranspiration\n",
    "def evap_i(lat,elev,wind,srad,tmin,tmax,tavg,month):\n",
    "    if month ==1:\n",
    "        J = 15\n",
    "    else:\n",
    "        J = 15 + (month-1)*30\n",
    "        \n",
    "    latitude = pyeto.deg2rad(lat) #converting latitude values from degrees to radians\n",
    "    atmosphericVapourPressure = pyeto.avp_from_tmin(tmin) #obtaining atmospheric vapour pressure from t_min\n",
    "    saturationVapourPressure = pyeto.svp_from_t(tavg) #obtaining saturation vapour pressure from t_avg\n",
    "    ird = pyeto.inv_rel_dist_earth_sun(J) #obtaining irradiance based on distance from sun?\n",
    "    solarDeclination = pyeto.sol_dec(J) #solar declination for various months?\n",
    "    sha = [pyeto.sunset_hour_angle(l, solarDeclination) for l in latitude]\n",
    "    extraterrestrialRad = [pyeto.et_rad(x, solarDeclination,y,ird) for x, y in zip(latitude,sha)] #extraterrestial radiation\n",
    "    clearSkyRad = pyeto.cs_rad(elev,extraterrestrialRad) #clear sky radiation\n",
    "    netInSolRadnet = pyeto.net_in_sol_rad(srad*0.001, albedo=0.23) #net shortwave irradiation\n",
    "    netOutSolRadnet = pyeto.net_out_lw_rad(tmin, tmax, srad*0.001, clearSkyRad, atmosphericVapourPressure) #net longwave radiation\n",
    "    netRadiation = pyeto.net_rad(netInSolRadnet,netOutSolRadnet) #net radiation\n",
    "    tempKelvin = pyeto.celsius2kelvin(tavg) #converting average temperature to Kelvin\n",
    "    windSpeed2m = wind #wind speed\n",
    "    slopeSvp = pyeto.delta_svp(tavg) #calculating slope vapour pressure\n",
    "    atmPressure = pyeto.atm_pressure(elev) #calculating atmospheric pressure from elevation value\n",
    "    psyConstant = pyeto.psy_const(atmPressure) #calculating psychrometric constant from atmospheric pressure\n",
    "    \n",
    "    #the function to use FAO Penman-Monteith equation and return the value of reference evapotranspiration\n",
    "    return pyeto.fao56_penman_monteith(netRadiation, tempKelvin, windSpeed2m, saturationVapourPressure, \n",
    "                                       atmosphericVapourPressure, slopeSvp, psyConstant, shf=0.0)\n",
    "\n",
    "\n",
    "#initiating the value of reference evapotranspiration\n",
    "for i in range(1,13):\n",
    "    df['ETo_{}'.format(i)]=0  #To make sure that it is reset to zero\n",
    "\n",
    "#calling the function to calculate ETo for each row for each month \n",
    "for i in range(1,13):\n",
    "    df['ETo_{}'.format(i)] = evap_i(df['lat'],df['elevation'],df['wind_{}'.format(i)],df['srad_{}'.format(i)], \n",
    "                                    df['tmin_{}'.format(i)],df['tmax_{}'.format(i)],df['tavg_{}'.format(i)],i)\n"
   ]
  },
  {
   "cell_type": "code",
   "execution_count": 5,
   "id": "1828a5e1",
   "metadata": {},
   "outputs": [],
   "source": [
    "df.head(5)"
   ]
  },
  {
   "cell_type": "markdown",
   "id": "b79445b5",
   "metadata": {},
   "source": [
    "# Estimating monthly crop evapotranspiration (ETc)"
   ]
  },
  {
   "cell_type": "markdown",
   "id": "9b58b951",
   "metadata": {},
   "source": [
    "Depending on the crop coefficient at different stages of its growth and the growth calendar, a crop coefficient is assigned to each month from January to december\n",
    "\n",
    "Crop evapotranspiration is calculated as a product of reference evapotranspiration and crop coefficient."
   ]
  },
  {
   "cell_type": "code",
   "execution_count": 6,
   "id": "2f54d1d6",
   "metadata": {},
   "outputs": [],
   "source": [
    "# Estimate monthly crop evaropotransoration ETc\n",
    "for i in range(1,13):\n",
    "    df['ETc_{}'.format(i)] = df['ETo_{}'.format(i)] * df['kc_{}'.format(i)]\n",
    "\n",
    "df.head(5)"
   ]
  },
  {
   "cell_type": "markdown",
   "id": "b7ba8db9",
   "metadata": {},
   "source": [
    "# Determining the effective rainfall"
   ]
  },
  {
   "cell_type": "markdown",
   "id": "223c9937",
   "metadata": {},
   "source": [
    "Effective rainfall is obtained by multiplying the monthly rainfall with a multiplication factor which is determined based on climatic conditions, soil water holding capacity, crop rooting depth and whether the crop is grown on dryland or wetland."
   ]
  },
  {
   "cell_type": "code",
   "execution_count": 7,
   "id": "55927273",
   "metadata": {},
   "outputs": [],
   "source": [
    "#calculating the effective rainfall\n",
    "#the rainfall received is multiplied with relevant factor\n",
    "#for this case maize is considered a shallow rooted crop\n",
    "\n",
    "#Initiate\n",
    "for i in range(1,13):\n",
    "    df['eff_{}'.format(i)]=0\n",
    "\n",
    "\n",
    "#the effective rainfall kept with bounds of 0.0001 to ETc value to avoid negative numbers when the two are\n",
    "#subtracted\n",
    "for i in range(1,13):\n",
    "    df['eff_{}'.format(i)] = df['c_shallow'] * df['prec_{}'.format(i)]\n",
    "    df.loc[df['eff_{}'.format(i)] < 0, 'eff_{}'.format(i)] = 0.0001\n",
    "    df.loc[(df['eff_{}'.format(i)] >= df['prec_{}'.format(i)]), 'eff_{}'.format(i)] = df['prec_{}'.format(i)]\n",
    "    df.loc[(df['eff_{}'.format(i)] >= df['ETc_{}'.format(i)]), 'eff_{}'.format(i)] = df['ETc_{}'.format(i)]\n",
    "    \n",
    "df.head(5)"
   ]
  },
  {
   "cell_type": "markdown",
   "id": "37952eab",
   "metadata": {},
   "source": [
    "# Calculating Net Irrigation water requirements"
   ]
  },
  {
   "cell_type": "markdown",
   "id": "73956527",
   "metadata": {},
   "source": [
    "The net irrigation water requirement is calculated by subtraction the effective rainfall from the crop evapotranspiration which is taken to be equivalent to crop water needs."
   ]
  },
  {
   "cell_type": "code",
   "execution_count": 8,
   "id": "ad8c8152",
   "metadata": {},
   "outputs": [],
   "source": [
    "#Net Irrigation requirements (IRn) (mm/month)\n",
    "#monthly ETc - monthly effective rainfall\n",
    "for i in range (1,13):\n",
    "    df['IRn_{}'.format(i)]= df['ETc_{}'.format(i)]*30 - df['eff_{}'.format(i)]*30\n",
    "\n",
    "df.head(5)"
   ]
  },
  {
   "cell_type": "markdown",
   "id": "7a1def70",
   "metadata": {},
   "source": [
    "In the code below the irrigation water demand is converted mm/month to litres/ha/day"
   ]
  },
  {
   "cell_type": "code",
   "execution_count": 9,
   "id": "cccd0140",
   "metadata": {},
   "outputs": [],
   "source": [
    "#Peak Crop Water Requirements (PCWR)\n",
    "\n",
    "# Converting IRn into (m3/ha per month) \n",
    "for i in range (1,13):\n",
    "    df['IRn_{}'.format(i)] *= 10    #0.001*10000 --- 1 hectare*1mm\n",
    "    df['Monthly_IRn_{}'.format(i)] = df['IRn_{}'.format(i)]\n",
    "    \n",
    "# Converting IRn into (m3/ha per day)\n",
    "for i in range (1,13):\n",
    "    df['IRnd_{}'.format(i)] = df['IRn_{}'.format(i)] / 30\n",
    "    \n",
    "# Peak crop water requirement (PCWR) taken to be equal to net irrigation requirement\n",
    "for i in range (1,13):\n",
    "    df['PCWR_{}'.format(i)] = df['IRnd_{}'.format(i)] \n",
    "    \n",
    "# Converting PCWR into  l/s/ha \"Duty\" - litre/second/hectare\n",
    "for i in range (1,13):\n",
    "    df['PCWR_{}'.format(i)] *= 0.012 #1000/86400 (seconds in a day)\n",
    "    \n",
    "\n",
    "df.head(5)\n"
   ]
  },
  {
   "cell_type": "markdown",
   "id": "b4a6fda1",
   "metadata": {},
   "source": [
    "The code below determine the maximum daily irrigation water demand in litres/ha/day\n",
    "This is given by the month with the maximum demand"
   ]
  },
  {
   "cell_type": "code",
   "execution_count": 10,
   "id": "fa701ac2",
   "metadata": {},
   "outputs": [],
   "source": [
    "#max pcwr\n",
    "df['pcwr_max']=df.filter(like='PCWR_').max(axis=1) \n",
    "df['pwcr_per_day'] = df['pcwr_max']*60*60*24 #pwcr in litres/day/hectare\n",
    "\n",
    "df.head(5)"
   ]
  },
  {
   "cell_type": "markdown",
   "id": "1ada841b",
   "metadata": {},
   "source": [
    "This code determines the month with the maximum irrigation water demand"
   ]
  },
  {
   "cell_type": "code",
   "execution_count": 11,
   "id": "0ca9a233",
   "metadata": {},
   "outputs": [],
   "source": [
    "#which month has the max pcwr?\n",
    "x = {}\n",
    "x['Max_PCWR']=df.filter(like='PCWR_').idxmax(axis=1)\n",
    "\n",
    "df['pcwr_month'] = x['Max_PCWR'].str[5:]\n",
    "\n",
    "df.head(5)"
   ]
  },
  {
   "cell_type": "markdown",
   "id": "bf98aeb7",
   "metadata": {},
   "source": [
    "# Calculating the gross water demand"
   ]
  },
  {
   "cell_type": "markdown",
   "id": "f9544f78",
   "metadata": {},
   "source": [
    "The gross water demand accounts for water losses and inefficiencies of distribution method used.\n",
    "\n",
    "The efficiencies are categorised to:\n",
    "- Conveyance efficiency which is depended on soil type and size of the farm. In this case it is taken to be 0.95 by assuming used of pipes for water distribution.\n",
    "- Application efficiency which depends on the method of irrigation used. In this case this was taken to be 0.9 by assuming the use of drip irrigation.\n",
    "\n",
    "In addition, it was assumed that water pumping will take place for 8 hours a day therefore the 24 hour demand should be catered for within these hours of pumping."
   ]
  },
  {
   "cell_type": "code",
   "execution_count": 12,
   "id": "9a63f545",
   "metadata": {},
   "outputs": [],
   "source": [
    "#Peak Water Demand (PWD) in l/s \n",
    "\n",
    "# PWD = PCWR / Irrigation efficiency(IrrEff) \n",
    "# IrrEff = Field Application Efficiency (aeff) * Distribution Efficiency (deff)*100 \n",
    "# deff = (Conveyance efficiency + field canal efficiency)\n",
    "# deff: 0.95 (all scenarios)\n",
    "# aeff: 0.6 (Surface Irr), 0.75 (Sprinkler Irr), 0.9 (Drip Irr)\n",
    "\n",
    "#efficiency of drip irrigation will be used \n",
    "\n",
    "pumping_hours_per_day=8    # Assumption  \n",
    "deff= 0.95                 # Assumption\n",
    "aeff= 0.9                 # Assumption\n",
    "\n",
    "#peak water demand per day in l/s/ha\n",
    "for i in range (1,13):\n",
    "    df[\"PWD_{}\".format(i)]= df[\"PCWR_{}\".format(i)]*24/(pumping_hours_per_day*aeff*deff)\n",
    "\n",
    "df.head(5)"
   ]
  },
  {
   "cell_type": "markdown",
   "id": "06139d43",
   "metadata": {},
   "source": [
    "# Calculating the required pump diameter"
   ]
  },
  {
   "cell_type": "markdown",
   "id": "d1a27e45",
   "metadata": {},
   "source": [
    "The required pump diameter depends on the maximum volumetric flow rate and the maximum allowable water velocity. In this case the maximum allowable water velocity was taken to be 1.5m/s"
   ]
  },
  {
   "cell_type": "code",
   "execution_count": 13,
   "id": "4f22ac1f",
   "metadata": {},
   "outputs": [],
   "source": [
    "#pump diameter depending on peak water demand\n",
    "#diameter in metres\n",
    "\n",
    "max_vel = 1.5 #maximum allowable water velocity\n",
    "df['PWD_max']=df.filter(like='PWD_').max(axis=1)\n",
    "\n",
    "df['diam'] = np.sqrt((4*df['PWD_max']/1000)/(3.142*max_vel))\n",
    "\n",
    "\n",
    "\n",
    "df.head(5)"
   ]
  },
  {
   "cell_type": "markdown",
   "id": "14f5fd96",
   "metadata": {},
   "source": [
    "# Calculating the total dynamic head"
   ]
  },
  {
   "cell_type": "markdown",
   "id": "55b1e01b",
   "metadata": {},
   "source": [
    "The total dynamic head incorporates the depth of water, fricition head and required pressure head.\n",
    "\n",
    "Friction head is calculated according to Darcy formula which considers friction factor of the pipe material, length of the pipe, diameter of the pipe and acceleration due to gravity. The friction factor is taken to be 0.013 by assuming use of PVC pipes.\n",
    "\n",
    "Pressure head is taken to be 2m."
   ]
  },
  {
   "cell_type": "code",
   "execution_count": 14,
   "id": "61b21cbb",
   "metadata": {},
   "outputs": [],
   "source": [
    "#Total dynamic head (TDH) for ground and surface water sources\n",
    "\n",
    "kf = 0.013 #friction factor\n",
    "\n",
    "# #friction head of groundwater\n",
    "frict_head_gw = (4*kf*8*df[\"gw_depth\"]*(df[\"PWD_max\"]/1000)**2)/(((df[\"diam\"])**5)*(3.142**2)*9.81)\n",
    "pres_head_gw = 2 #pressure head\n",
    "\n",
    "\n",
    "\n",
    "pres_head_sw = 2\n",
    "frict_head_sw = (4*kf*8*df['sw_dist']*(df['PWD_max']/1000)**2)/(((df['diam'])**5)*(3.142**2)*9.81)\n",
    "\n",
    "#groundwater dynamic head\n",
    "df['tdh_gw']=df['gw_depth'] + pres_head_gw + frict_head_gw\n",
    "\n",
    "\n",
    "\n",
    "#checking if water us flowing downhill or uphill\n",
    "df['tsh'] = df['sw_depth'] - df['elevation']\n",
    "\n",
    "#surface water dynamic head\n",
    "df.loc[df['tsh'] <= 0, 'tdh_sw'] = (abs(df['sw_depth'] - df['elevation'])) + pres_head_sw + frict_head_sw\n",
    "df.loc[df['tsh'] > 0, 'tdh_sw'] = pres_head_sw + frict_head_sw\n",
    "\n",
    "\n",
    "df.head(5)"
   ]
  },
  {
   "cell_type": "markdown",
   "id": "20f190fe",
   "metadata": {},
   "source": [
    "# Estimating power demand (kW)"
   ]
  },
  {
   "cell_type": "markdown",
   "id": "ce695e50",
   "metadata": {},
   "source": [
    "Power demand depends on the demanded volumetric flow rate, total dynamic head and the pumping system efficiency.\n",
    "\n",
    "The pumping system efficiency was assumed to be 57%"
   ]
  },
  {
   "cell_type": "code",
   "execution_count": 15,
   "id": "1614071d",
   "metadata": {},
   "outputs": [],
   "source": [
    "#Setting the default value for these parameters\n",
    "for i in range (1,13):\n",
    "    df['PD_E_gw_{}'.format(i)]=0      #PD_E_gw: Peak Demand (kw) using electric powered pump for ground water\n",
    "    df['PD_E_sw_{}'.format(i)]=0      #PD_E_sw: Peak Demand (kw) using electric powered pump for surface water \n",
    "\n",
    "    \n",
    "pump_plant_eff=0.57\n",
    "\n",
    "#calculating the monthly peak (kW) demand\n",
    "for i in range (1,13):\n",
    "    PWD = 'PWD_{}'.format(i)\n",
    "    PD_E_gw = 'PD_E_gw_{}'.format(i)\n",
    "    PD_E_sw = 'PD_E_sw_{}'.format(i)\n",
    "\n",
    "    df[PD_E_gw]=(9.81*(df[PWD]/1000)*df['tdh_gw'])/pump_plant_eff #Dividing by 1000 to obtain power in kW\n",
    "    df[PD_E_sw]=(9.81*(df[PWD]/1000)*df['tdh_sw'])/pump_plant_eff\n",
    "\n",
    "df.head(5)"
   ]
  },
  {
   "cell_type": "markdown",
   "id": "80458a03",
   "metadata": {},
   "source": [
    "Code below decides whether to use surface water or ground water depending on which one has the least power requirements"
   ]
  },
  {
   "cell_type": "code",
   "execution_count": 16,
   "id": "e4b26f8f",
   "metadata": {},
   "outputs": [],
   "source": [
    "df['Max_PD_E_gw']=df.filter(like='PD_E_gw_').max(axis=1) #highest power for gw\n",
    "df['Max_PD_E_sw']=df.filter(like='PD_E_sw_').max(axis=1)  #highest power for sw\n",
    "df['PD_E'] = np.minimum.reduce(df[['Max_PD_E_gw', 'Max_PD_E_sw']].values, axis=1) #choosing lowest of the two\n",
    "\n",
    "#noting whether surface water or groundwater was used\n",
    "#1 if surface water is chosen and 0 if groundwater is chosen\n",
    "df.loc[df['Max_PD_E_sw'] < df['Max_PD_E_gw'], 'sw'] = 1\n",
    "df.loc[df['Max_PD_E_sw'] > df['Max_PD_E_gw'], 'sw'] = 0\n",
    "\n",
    "df.head(5)"
   ]
  },
  {
   "cell_type": "markdown",
   "id": "14efb37d",
   "metadata": {},
   "source": [
    "# Estimating the electricity demand for irrigation"
   ]
  },
  {
   "cell_type": "code",
   "execution_count": 17,
   "id": "3741774f",
   "metadata": {},
   "outputs": [],
   "source": [
    "#Estimating the yearly electricity demand\n",
    "\n",
    "#total sum of monthly\n",
    "#months assumed to have same length so this can be added directly\n",
    "df['PD_E_gw_sum']=df.filter(like='PD_E_gw_').sum(axis=1) #sum power for gw\n",
    "df['PD_E_sw_sum']=df.filter(like='PD_E_sw_').sum(axis=1)  #sum power for sw\n",
    "\n",
    "df['PD_sum'] = np.minimum.reduce(df[['PD_E_gw_sum', 'PD_E_sw_sum']].values, axis=1) #choosing the lowest power sum\n",
    "\n",
    "#monthy energy demand\n",
    "for i in range (1,13):\n",
    "    month_demand = 'month_demand_{}'.format(i)\n",
    "    power_sw = 'PD_E_sw_{}'.format(i)\n",
    "    power_gw = 'PD_E_gw_{}'.format(i)\n",
    "    df.loc[df['Max_PD_E_sw'] < df['Max_PD_E_gw'], month_demand] = df[power_sw]*8*30\n",
    "    df.loc[df['Max_PD_E_sw'] > df['Max_PD_E_gw'], month_demand] = df[power_gw]*8*30\n",
    "    \n",
    "\n",
    "#total annual energy consumed in irrigation\n",
    "df['Annual_elec_demand'] = df['PD_sum'] * 8 * 30\n",
    "\n",
    "df.head(5)"
   ]
  },
  {
   "cell_type": "markdown",
   "id": "f0ce4743",
   "metadata": {},
   "source": [
    "# Determining the solar potential for the month with max power demand"
   ]
  },
  {
   "cell_type": "code",
   "execution_count": 18,
   "id": "c816ebc2",
   "metadata": {},
   "outputs": [],
   "source": [
    "#determining solar potential of month with max demand\n",
    "\n",
    "df['etc_max']=df.filter(like='IRn_').idxmax(axis=1)\n",
    "\n",
    "d = df['etc_max']\n",
    "\n",
    "x = d.str[4:]\n",
    "\n",
    "x\n",
    "n = x.astype(int)\n",
    " \n",
    "start_pv = df.columns.get_loc('pvout_1')\n",
    "pos = start_pv + (n)\n",
    "pos\n",
    "\n",
    "colname = df.columns[pos]\n",
    "\n",
    "\n",
    "for i in range(len(df)):\n",
    "    df['PV'] = df.loc[:][colname[i]]\n",
    "\n",
    "df.head(5)"
   ]
  },
  {
   "cell_type": "markdown",
   "id": "9bfe76e7",
   "metadata": {},
   "source": [
    "# Sizing the required PV"
   ]
  },
  {
   "cell_type": "code",
   "execution_count": 19,
   "id": "e3242eaa",
   "metadata": {
    "scrolled": true
   },
   "outputs": [],
   "source": [
    "#PV size = 1.2 x Max Energy Demand (kWh)/pv potential (kWh/kWp)\n",
    "#Result scaled by 20\\% for safety as the monthly PVOUT value is an average\n",
    "\n",
    "df['pv_kw'] = (1.2*df['PD_E']*8*30)/df['PV']\n",
    "\n",
    "\n",
    "df.head(5)"
   ]
  },
  {
   "cell_type": "markdown",
   "id": "cbce2dfe",
   "metadata": {},
   "source": [
    "# Annual energy supplied and system utilisation factor"
   ]
  },
  {
   "cell_type": "code",
   "execution_count": 20,
   "id": "8ed771db",
   "metadata": {},
   "outputs": [],
   "source": [
    "#Total energy produced by system per month\n",
    "#Energy (kWh) = PV Peak Power (kWp) * solar potential (kWh/kWp) \n",
    "for i in range (1,13):\n",
    "    df['E_supply_{}'.format(i)] = df['pv_kw']*df['pvout_{}'.format(i)] #monthly energy supplied\n",
    "    \n",
    "#Total energy produced by the system annually\n",
    "#Total energy supplied is given by the sum of the monthly supplies\n",
    "df['Annual_Energy']=df.filter(like='E_supply_').sum(axis=1)\n",
    "\n",
    "\n",
    "#utilisation factor\n",
    "df['utilisation_1'] = 100 * df['Annual_elec_demand']/df['Annual_Energy']\n",
    "\n",
    "\n",
    "df.head(5)"
   ]
  },
  {
   "cell_type": "markdown",
   "id": "25fe2a60",
   "metadata": {},
   "source": [
    "# Potential for using excess energy to connect neighbouring households to Tier 3 electricity"
   ]
  },
  {
   "cell_type": "code",
   "execution_count": 21,
   "id": "830c81c7",
   "metadata": {},
   "outputs": [],
   "source": [
    "#Excess energy per month i.e. the energy not used for irrigation\n",
    "\n",
    "for i in range (1,13):\n",
    "    E_Excess = 'E_Excess_{}'.format(i)\n",
    "    E_Supply = 'E_supply_{}'.format(i)\n",
    "    demand = 'month_demand_{}'.format(i)\n",
    "    df[E_Excess] = df[E_Supply] - df[demand]\n",
    "\n",
    "    \n",
    "df.head(5)"
   ]
  },
  {
   "cell_type": "code",
   "execution_count": 22,
   "id": "0c28acbb",
   "metadata": {},
   "outputs": [],
   "source": [
    "#electrification demand\n",
    "\n",
    "#https://openknowledge.worldbank.org/entities/publication/a896ab51-e042-5b7d-8ffd-59d36461059e\n",
    "#https://openknowledge.worldbank.org/server/api/core/bitstreams/248a7205-e926-5946-9025-605b8035ad95/content\n",
    "tier1 = 4.5 #annual household consumption for tier 1 in kWh\n",
    "tier2 = 73\n",
    "tier3 = 365\n",
    "tier4 = 1250\n",
    "tier5 = 3000\n",
    "#tier 3 demand per month = 365kWh/12\n",
    "#assuming 4 people per household\n",
    "#demand = area being connected * density of people without electricity * demand per/household/month\n",
    "\n",
    "#connecting 1km^2 around the SPIS\n",
    "df['tier3'] = df['no_access']*1*tier3/(4*12)\n",
    "\n",
    "    \n",
    "df.head(5)"
   ]
  },
  {
   "cell_type": "code",
   "execution_count": 23,
   "id": "0e872f45",
   "metadata": {},
   "outputs": [],
   "source": [
    "#determining how much of the SPIS excess energy can be consumed by the households/per month\n",
    "for i in range (1,13):\n",
    "    E_Excess = 'E_Excess_{}'.format(i)\n",
    "    amount_supplied = 'amount_supplied_{}'.format(i)\n",
    "    Tier3 = 'tier3'\n",
    "    df.loc[df[E_Excess] > df[Tier3], amount_supplied] = df[Tier3] #if supply greater than demand\n",
    "    df.loc[df[E_Excess] < df[Tier3], amount_supplied] = df[E_Excess] #if demand greater than supply\n",
    "    \n",
    "df.head(5)"
   ]
  },
  {
   "cell_type": "markdown",
   "id": "071b287f",
   "metadata": {},
   "source": [
    "# Impact of using SPIS for electrification"
   ]
  },
  {
   "cell_type": "code",
   "execution_count": 24,
   "id": "c44c39f3",
   "metadata": {},
   "outputs": [],
   "source": [
    "#total energy supplied to electrified homes annually\n",
    "df['total_supplied']=df.filter(like='amount_supplied_').sum(axis=1)\n",
    "\n",
    "#number of households getting tier 3\n",
    "df['tier3_hh'] = round(df['total_supplied']/tier3)\n",
    "\n",
    "#new utilisation factor\n",
    "#adding up energy supplied for electrification and energy used for irrigation\n",
    "df['utilisation_2'] = 100*(df['Annual_elec_demand'] + df['total_supplied'])/df['Annual_Energy']\n",
    "\n",
    "df.head(5)"
   ]
  },
  {
   "cell_type": "markdown",
   "id": "5a3731ce",
   "metadata": {},
   "source": [
    "# Estimating SPIS cost"
   ]
  },
  {
   "cell_type": "code",
   "execution_count": 25,
   "id": "f0c3fa96",
   "metadata": {},
   "outputs": [],
   "source": [
    "#system cost\n",
    "#cost of submersible pump + solar panels = $1109/kW #https://www.waterpumps.co.ke/solar-water-pumps-prices-in-kenya.html\n",
    "#cost of surface pump + solar panels = $1295/kW #https://www.waterpumps.co.ke/solar-water-pumps-prices-in-kenya.html\n",
    "#cost drilling a borehole = $833 + $54*depth #https://www.waterlink.co.ke/2021/05/07/borehole-drilling-cost-in-kenya-2022/#:~:text\n",
    "#cost of water transmission pipeline = $1.14*distance #https://grekkon.com/hdpe-pipes-in-kenya/\n",
    "\n",
    "#cost excluding the boreholes or the water transmission pipe\n",
    "df.loc[df['sw'] == 1, 'cost'] = 1295*df['PD_E'] #if using surface water\n",
    "df.loc[df['sw'] == 0, 'cost'] = 1109*df['PD_E'] #if using ground water\n",
    "\n",
    "df.head(5)"
   ]
  },
  {
   "cell_type": "markdown",
   "id": "56535295",
   "metadata": {},
   "source": [
    "# Generating output file"
   ]
  },
  {
   "cell_type": "code",
   "execution_count": 26,
   "id": "0039802d",
   "metadata": {},
   "outputs": [],
   "source": [
    "#removing protected areas\n",
    "x = df.loc[(df['protected'] == 1)] "
   ]
  },
  {
   "cell_type": "code",
   "execution_count": 27,
   "id": "97830b42",
   "metadata": {},
   "outputs": [],
   "source": [
    "#filtering columns of interest\n",
    "#county, main id, area,longitude, latitude\n",
    "#pcwr, peak power demand, pv size, energy demand, utilisation 1, electricity supplied, \n",
    "#utilisation 2 (after electrification), cost, tier3_hh (number of households that can be electrified to tier 3)\n",
    "out = x.filter(items=['COUNTY','Main ID','area', 'lon','lat','pwcr_per_day', 'PD_E','pv_kw', 'Annual_elec_demand',\n",
    "                'total_supplied','utilisation_1','utilisation_2','cost','tier3_hh'])\n",
    "out.head(5)"
   ]
  },
  {
   "cell_type": "markdown",
   "id": "ff7097c4",
   "metadata": {},
   "source": [
    "# Saving the output file"
   ]
  },
  {
   "cell_type": "code",
   "execution_count": 28,
   "id": "24af94c3",
   "metadata": {},
   "outputs": [],
   "source": [
    "#saving\n",
    "if s == 1:\n",
    "    out.to_csv('worst_case_output.csv', index = False)\n",
    "elif s == 2:\n",
    "    out.to_csv('future_case_output.csv', index = False)\n",
    "else:\n",
    "    out.to_csv('average_case_output.csv', index = False)\n",
    "    \n",
    "out.head(5)"
   ]
  }
 ],
 "metadata": {
  "kernelspec": {
   "display_name": "Python 3 (ipykernel)",
   "language": "python",
   "name": "python3"
  },
  "language_info": {
   "codemirror_mode": {
    "name": "ipython",
    "version": 3
   },
   "file_extension": ".py",
   "mimetype": "text/x-python",
   "name": "python",
   "nbconvert_exporter": "python",
   "pygments_lexer": "ipython3",
   "version": "3.9.16"
  }
 },
 "nbformat": 4,
 "nbformat_minor": 5
}
